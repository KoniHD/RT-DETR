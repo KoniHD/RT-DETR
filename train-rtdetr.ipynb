{
  "cells": [
    {
      "cell_type": "markdown",
      "metadata": {
        "id": "zjYCt0Kt-oDM"
      },
      "source": [
        "# Train RT-DETR\n",
        "\n",
        "---\n",
        "[![GitHub](https://badges.aleen42.com/src/github.svg)](https://github.com/lyuwenyu/RT-DETR)\n",
        "[![arXiv](https://img.shields.io/badge/arXiv-2402.13616-b31b1b.svg)](https://arxiv.org/abs/2304.08069)"
      ]
    },
    {
      "cell_type": "markdown",
      "metadata": {
        "id": "FWgiH-8a-oDO"
      },
      "source": [
        "## Before you start / Setup\n",
        "\n",
        "Let's make sure that we have access to GPU. We can use `nvidia-smi` command to do that. In case of any problems navigate to `Edit` -> `Notebook settings` -> `Hardware accelerator`, set it to `GPU`, and then click `Save`."
      ]
    },
    {
      "cell_type": "code",
      "execution_count": null,
      "metadata": {
        "id": "Fs_Ejyi7-oDQ"
      },
      "outputs": [],
      "source": [
        "!nvidia-smi"
      ]
    },
    {
      "cell_type": "markdown",
      "metadata": {
        "id": "M1gf5GKO-oDR"
      },
      "source": [
        "**NOTE:** To make it easier for us to manage datasets, images and models we create a `HOME` constant."
      ]
    },
    {
      "cell_type": "code",
      "execution_count": null,
      "metadata": {
        "id": "dmIzV-t6-oDS"
      },
      "outputs": [],
      "source": [
        "import os\n",
        "from IPython.display import Image\n",
        "from google.colab import drive, userdata\n",
        "\n",
        "HOME = os.getcwd()\n",
        "RT_DETR = os.path.join(HOME, 'RT-DETR')\n",
        "print(HOME)\n",
        "print(RT_DETR)"
      ]
    },
    {
      "cell_type": "markdown",
      "metadata": {
        "id": "T7LE5lrZ-oDW"
      },
      "source": [
        "## Clone and Install"
      ]
    },
    {
      "cell_type": "code",
      "execution_count": null,
      "metadata": {
        "id": "T7dzcrrT-oDW"
      },
      "outputs": [],
      "source": [
        "github_token = userdata.get('github_token')\n",
        "\n",
        "# clone GitHub Repo\n",
        "!git clone https://{github_token}@github.com/KoniHD/RT-DETR.git\n",
        "!pip install -r {RT_DETR}/rtdetr_pytorch/requirements.txt"
      ]
    },
    {
      "cell_type": "markdown",
      "metadata": {
        "id": "oqtfAmPT-oDY"
      },
      "source": [
        "## Download LOCO dataset\n",
        "\n",
        "**NOTE:** This might need to be adjusted to deal with the train/val annotations"
      ]
    },
    {
      "cell_type": "code",
      "execution_count": null,
      "metadata": {
        "id": "rigixLJT-oDY"
      },
      "outputs": [],
      "source": [
        "!{RT_DETR}/scripts/get_loco.sh\n",
        "!python {RT_DETR}/scripts/transform_annotations.py -d ./loco --convert-images --convert-to-coco"
      ]
    },
    {
      "cell_type": "markdown",
      "metadata": {
        "id": "sF5vLOhl-oDY"
      },
      "source": [
        "## Train custom model on LOCO dataset"
      ]
    },
    {
      "cell_type": "code",
      "execution_count": null,
      "metadata": {
        "id": "n5tZ3vGv-oDZ"
      },
      "outputs": [],
      "source": [
        "!python {RT_DETR}/rtdetr_pytorch/tools/train.py --config {RT_DETR}/rtdetr_pytorch/configs/rtdetr/rtdetr_r50vd_m_6x_loco_custom.yaml"
      ]
    },
    {
      "cell_type": "markdown",
      "metadata": {},
      "source": [
        "## Save data to Google Drive"
      ]
    },
    {
      "cell_type": "code",
      "execution_count": null,
      "metadata": {},
      "outputs": [],
      "source": [
        "# Mount Google Drive\n",
        "drive.mount('/content/drive')\n",
        "cp -r {HOME}/output {HOME}/drive/MyDrive/Studium/'Bachelor Arbeit'/runs/RT-DETR/"
      ]
    }
  ],
  "metadata": {
    "colab": {
      "provenance": []
    },
    "kernelspec": {
      "display_name": "Python 3",
      "name": "python3"
    },
    "language_info": {
      "name": "python"
    }
  },
  "nbformat": 4,
  "nbformat_minor": 0
}
